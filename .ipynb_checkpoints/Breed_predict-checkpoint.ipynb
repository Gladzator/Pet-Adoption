{
 "cells": [
  {
   "cell_type": "code",
   "execution_count": 1,
   "metadata": {},
   "outputs": [],
   "source": [
    "import pandas as pd\n",
    "import numpy as np\n",
    "import seaborn as sns\n",
    "import matplotlib.pyplot as plt\n",
    "%matplotlib inline\n",
    "\n",
    "## for feature slection\n",
    "\n",
    "from sklearn.linear_model import Lasso\n",
    "from sklearn.feature_selection import SelectFromModel\n",
    "\n",
    "# to visualise all the columns in the dataframe\n",
    "pd.pandas.set_option('display.max_columns', None)"
   ]
  },
  {
   "cell_type": "code",
   "execution_count": 2,
   "metadata": {},
   "outputs": [],
   "source": [
    "dataset=pd.read_csv('train_norm.csv')\n",
    "test_dataset=pd.read_csv('predicted_test_pet.csv')"
   ]
  },
  {
   "cell_type": "code",
   "execution_count": 3,
   "metadata": {},
   "outputs": [
    {
     "data": {
      "text/html": [
       "<div>\n",
       "<style scoped>\n",
       "    .dataframe tbody tr th:only-of-type {\n",
       "        vertical-align: middle;\n",
       "    }\n",
       "\n",
       "    .dataframe tbody tr th {\n",
       "        vertical-align: top;\n",
       "    }\n",
       "\n",
       "    .dataframe thead th {\n",
       "        text-align: right;\n",
       "    }\n",
       "</style>\n",
       "<table border=\"1\" class=\"dataframe\">\n",
       "  <thead>\n",
       "    <tr style=\"text-align: right;\">\n",
       "      <th></th>\n",
       "      <th>pet_id</th>\n",
       "      <th>condition</th>\n",
       "      <th>color_type</th>\n",
       "      <th>length(m)</th>\n",
       "      <th>X1</th>\n",
       "      <th>X2</th>\n",
       "      <th>breed_category</th>\n",
       "      <th>pet_category</th>\n",
       "      <th>issue_date_dt</th>\n",
       "      <th>listing_date_dt</th>\n",
       "      <th>date_diff</th>\n",
       "      <th>conditionnan</th>\n",
       "      <th>height(m)</th>\n",
       "      <th>color_type_encode</th>\n",
       "    </tr>\n",
       "  </thead>\n",
       "  <tbody>\n",
       "    <tr>\n",
       "      <th>0</th>\n",
       "      <td>ANSL_69903</td>\n",
       "      <td>0.666667</td>\n",
       "      <td>Brown Tabby</td>\n",
       "      <td>0.80</td>\n",
       "      <td>0.684211</td>\n",
       "      <td>1.000000</td>\n",
       "      <td>0.0</td>\n",
       "      <td>1</td>\n",
       "      <td>2016-07-10</td>\n",
       "      <td>2016-09-21</td>\n",
       "      <td>0.006719</td>\n",
       "      <td>0.0</td>\n",
       "      <td>0.061778</td>\n",
       "      <td>0.181818</td>\n",
       "    </tr>\n",
       "    <tr>\n",
       "      <th>1</th>\n",
       "      <td>ANSL_66892</td>\n",
       "      <td>0.333333</td>\n",
       "      <td>White</td>\n",
       "      <td>0.72</td>\n",
       "      <td>0.684211</td>\n",
       "      <td>1.000000</td>\n",
       "      <td>0.0</td>\n",
       "      <td>2</td>\n",
       "      <td>2013-11-21</td>\n",
       "      <td>2018-12-27</td>\n",
       "      <td>0.229314</td>\n",
       "      <td>0.0</td>\n",
       "      <td>0.204222</td>\n",
       "      <td>0.490909</td>\n",
       "    </tr>\n",
       "    <tr>\n",
       "      <th>2</th>\n",
       "      <td>ANSL_69750</td>\n",
       "      <td>1.000000</td>\n",
       "      <td>Brown</td>\n",
       "      <td>0.15</td>\n",
       "      <td>0.789474</td>\n",
       "      <td>0.444444</td>\n",
       "      <td>2.0</td>\n",
       "      <td>4</td>\n",
       "      <td>2014-09-28</td>\n",
       "      <td>2016-10-19</td>\n",
       "      <td>0.091203</td>\n",
       "      <td>1.0</td>\n",
       "      <td>0.797778</td>\n",
       "      <td>0.963636</td>\n",
       "    </tr>\n",
       "    <tr>\n",
       "      <th>3</th>\n",
       "      <td>ANSL_71623</td>\n",
       "      <td>0.333333</td>\n",
       "      <td>White</td>\n",
       "      <td>0.62</td>\n",
       "      <td>0.000000</td>\n",
       "      <td>0.111111</td>\n",
       "      <td>0.0</td>\n",
       "      <td>2</td>\n",
       "      <td>2016-12-31</td>\n",
       "      <td>2019-01-25</td>\n",
       "      <td>0.091576</td>\n",
       "      <td>0.0</td>\n",
       "      <td>0.284889</td>\n",
       "      <td>0.490909</td>\n",
       "    </tr>\n",
       "    <tr>\n",
       "      <th>4</th>\n",
       "      <td>ANSL_57969</td>\n",
       "      <td>0.666667</td>\n",
       "      <td>Black</td>\n",
       "      <td>0.50</td>\n",
       "      <td>0.947368</td>\n",
       "      <td>0.444444</td>\n",
       "      <td>0.0</td>\n",
       "      <td>1</td>\n",
       "      <td>2017-09-28</td>\n",
       "      <td>2017-11-19</td>\n",
       "      <td>0.004106</td>\n",
       "      <td>0.0</td>\n",
       "      <td>0.134667</td>\n",
       "      <td>0.472727</td>\n",
       "    </tr>\n",
       "  </tbody>\n",
       "</table>\n",
       "</div>"
      ],
      "text/plain": [
       "       pet_id  condition   color_type  length(m)        X1        X2  \\\n",
       "0  ANSL_69903   0.666667  Brown Tabby       0.80  0.684211  1.000000   \n",
       "1  ANSL_66892   0.333333        White       0.72  0.684211  1.000000   \n",
       "2  ANSL_69750   1.000000        Brown       0.15  0.789474  0.444444   \n",
       "3  ANSL_71623   0.333333        White       0.62  0.000000  0.111111   \n",
       "4  ANSL_57969   0.666667        Black       0.50  0.947368  0.444444   \n",
       "\n",
       "   breed_category  pet_category issue_date_dt listing_date_dt  date_diff  \\\n",
       "0             0.0             1    2016-07-10      2016-09-21   0.006719   \n",
       "1             0.0             2    2013-11-21      2018-12-27   0.229314   \n",
       "2             2.0             4    2014-09-28      2016-10-19   0.091203   \n",
       "3             0.0             2    2016-12-31      2019-01-25   0.091576   \n",
       "4             0.0             1    2017-09-28      2017-11-19   0.004106   \n",
       "\n",
       "   conditionnan  height(m)  color_type_encode  \n",
       "0           0.0   0.061778           0.181818  \n",
       "1           0.0   0.204222           0.490909  \n",
       "2           1.0   0.797778           0.963636  \n",
       "3           0.0   0.284889           0.490909  \n",
       "4           0.0   0.134667           0.472727  "
      ]
     },
     "execution_count": 3,
     "metadata": {},
     "output_type": "execute_result"
    }
   ],
   "source": [
    "dataset.head()"
   ]
  },
  {
   "cell_type": "code",
   "execution_count": 4,
   "metadata": {},
   "outputs": [],
   "source": [
    "y_train=dataset[['pet_category', 'breed_category']]"
   ]
  },
  {
   "cell_type": "code",
   "execution_count": 5,
   "metadata": {},
   "outputs": [],
   "source": [
    "X_train_first = dataset.copy()\n",
    "X_test_first = test_dataset.copy()"
   ]
  },
  {
   "cell_type": "code",
   "execution_count": 6,
   "metadata": {},
   "outputs": [],
   "source": [
    "pet_category_encode = X_train_first.groupby(['pet_category'])['breed_category'].mean().sort_values().index\n",
    "pet_category_encode = {k:i for i,k in enumerate(pet_category_encode,0)}\n",
    "X_train_first['pet_category'] = X_train_first['pet_category'].map(pet_category_encode)\n",
    "\n",
    "X_test_first['pet_category'] = X_test_first['pet_category'].map(pet_category_encode)"
   ]
  },
  {
   "cell_type": "code",
   "execution_count": 7,
   "metadata": {},
   "outputs": [],
   "source": [
    "num_features=[feature for feature in X_train_first.columns if X_train_first[feature].dtypes!='O' and feature != 'pet_category' and feature != 'breed_category']\n",
    "\n",
    "for feature in num_features:\n",
    "    X_train_first[feature]=(X_train_first[feature]-X_train_first[feature].min())/(X_train_first[feature].max()-X_train_first[feature].min())"
   ]
  },
  {
   "cell_type": "code",
   "execution_count": 8,
   "metadata": {
    "scrolled": true
   },
   "outputs": [],
   "source": [
    "X_train_first = X_train_first.drop(['pet_id', 'breed_category', 'color_type', 'issue_date_dt', 'listing_date_dt'],axis=1)"
   ]
  },
  {
   "cell_type": "code",
   "execution_count": 9,
   "metadata": {},
   "outputs": [],
   "source": [
    "from sklearn.model_selection import train_test_split\n",
    "X_train, X_val, y_train, y_val = train_test_split(X_train_first, y_train, test_size=0.30, random_state=42)"
   ]
  },
  {
   "cell_type": "code",
   "execution_count": 10,
   "metadata": {},
   "outputs": [],
   "source": [
    "from xgboost import XGBClassifier\n",
    "from sklearn.model_selection import GridSearchCV\n",
    "from sklearn.metrics import auc, accuracy_score, confusion_matrix, mean_squared_error\n",
    "from sklearn.metrics import f1_score\n",
    "from mlxtend.feature_selection import SequentialFeatureSelector as SFS"
   ]
  },
  {
   "cell_type": "code",
   "execution_count": 11,
   "metadata": {},
   "outputs": [],
   "source": [
    "xgb_model_breed = XGBClassifier(base_score=0.5, booster='gbtree', colsample_bylevel=1,\n",
    "              colsample_bynode=1, colsample_bytree=1, gamma=0, gpu_id=-1,\n",
    "              importance_type='gain', interaction_constraints='',\n",
    "              learning_rate=0.01, max_delta_step=0, max_depth=8,\n",
    "              min_child_weight=1, monotone_constraints='()',\n",
    "              n_estimators=180, n_jobs=4, nthread=4, num_parallel_tree=1,\n",
    "              objective='multi:softprob', random_state=42, reg_alpha=0,\n",
    "              reg_lambda=1, scale_pos_weight=None, seed=42, subsample=1,\n",
    "              tree_method='exact', validate_parameters=1, verbosity=None)"
   ]
  },
  {
   "cell_type": "code",
   "execution_count": 12,
   "metadata": {},
   "outputs": [
    {
     "name": "stdout",
     "output_type": "stream",
     "text": [
      "[[5923  363    0]\n",
      " [ 613 5265    0]\n",
      " [   0    0 1018]]\n"
     ]
    },
    {
     "data": {
      "text/plain": [
       "(0.9258770848661204, 0.9002869947905946)"
      ]
     },
     "execution_count": 12,
     "metadata": {},
     "output_type": "execute_result"
    }
   ],
   "source": [
    "xgb_model_breed.fit(X_train, y_train['breed_category'])\n",
    "\n",
    "y_pred = xgb_model_breed.predict(X_train)\n",
    "\n",
    "print(confusion_matrix(y_train['breed_category'], y_pred))\n",
    "\n",
    "s22 = f1_score(y_train['breed_category'], y_pred, average='weighted')\n",
    "\n",
    "y_val_pred = xgb_model_breed.predict(X_val)\n",
    "s22_val = f1_score(y_val['breed_category'], y_val_pred, average='weighted')\n",
    "\n",
    "s22, s22_val"
   ]
  },
  {
   "cell_type": "code",
   "execution_count": 13,
   "metadata": {},
   "outputs": [
    {
     "data": {
      "text/plain": [
       "<matplotlib.axes._subplots.AxesSubplot at 0x215ba4c6148>"
      ]
     },
     "execution_count": 13,
     "metadata": {},
     "output_type": "execute_result"
    },
    {
     "data": {
      "image/png": "[encoded data removed]",
      "text/plain": [
       "<Figure size 432x288 with 1 Axes>"
      ]
     },
     "metadata": {
      "needs_background": "light"
     },
     "output_type": "display_data"
    }
   ],
   "source": [
    "from xgboost import plot_importance\n",
    "plot_importance(xgb_model_breed, )"
   ]
  },
  {
   "cell_type": "code",
   "execution_count": 14,
   "metadata": {
    "scrolled": true
   },
   "outputs": [],
   "source": [
    "y_pred_test = xgb_model_breed.predict(X_test_first[X_train.columns])"
   ]
  },
  {
   "cell_type": "code",
   "execution_count": 15,
   "metadata": {},
   "outputs": [],
   "source": [
    "test_dataset['breed_category'] = y_pred_test"
   ]
  },
  {
   "cell_type": "code",
   "execution_count": 16,
   "metadata": {},
   "outputs": [],
   "source": [
    "sub = test_dataset[['pet_id', 'breed_category', 'pet_category']]"
   ]
  },
  {
   "cell_type": "code",
   "execution_count": 17,
   "metadata": {},
   "outputs": [],
   "source": [
    "sub.to_csv('C:/Pet-Adoption/submission.csv', index=False)"
   ]
  },
  {
   "cell_type": "code",
   "execution_count": 18,
   "metadata": {},
   "outputs": [
    {
     "data": {
      "text/html": [
       "<div>\n",
       "<style scoped>\n",
       "    .dataframe tbody tr th:only-of-type {\n",
       "        vertical-align: middle;\n",
       "    }\n",
       "\n",
       "    .dataframe tbody tr th {\n",
       "        vertical-align: top;\n",
       "    }\n",
       "\n",
       "    .dataframe thead th {\n",
       "        text-align: right;\n",
       "    }\n",
       "</style>\n",
       "<table border=\"1\" class=\"dataframe\">\n",
       "  <thead>\n",
       "    <tr style=\"text-align: right;\">\n",
       "      <th></th>\n",
       "      <th>pet_id</th>\n",
       "      <th>breed_category</th>\n",
       "      <th>pet_category</th>\n",
       "    </tr>\n",
       "  </thead>\n",
       "  <tbody>\n",
       "    <tr>\n",
       "      <th>0</th>\n",
       "      <td>ANSL_75005</td>\n",
       "      <td>1.0</td>\n",
       "      <td>2</td>\n",
       "    </tr>\n",
       "    <tr>\n",
       "      <th>1</th>\n",
       "      <td>ANSL_76663</td>\n",
       "      <td>0.0</td>\n",
       "      <td>1</td>\n",
       "    </tr>\n",
       "    <tr>\n",
       "      <th>2</th>\n",
       "      <td>ANSL_58259</td>\n",
       "      <td>0.0</td>\n",
       "      <td>2</td>\n",
       "    </tr>\n",
       "    <tr>\n",
       "      <th>3</th>\n",
       "      <td>ANSL_67171</td>\n",
       "      <td>0.0</td>\n",
       "      <td>2</td>\n",
       "    </tr>\n",
       "    <tr>\n",
       "      <th>4</th>\n",
       "      <td>ANSL_72871</td>\n",
       "      <td>0.0</td>\n",
       "      <td>2</td>\n",
       "    </tr>\n",
       "    <tr>\n",
       "      <th>...</th>\n",
       "      <td>...</td>\n",
       "      <td>...</td>\n",
       "      <td>...</td>\n",
       "    </tr>\n",
       "    <tr>\n",
       "      <th>8067</th>\n",
       "      <td>ANSL_66809</td>\n",
       "      <td>1.0</td>\n",
       "      <td>2</td>\n",
       "    </tr>\n",
       "    <tr>\n",
       "      <th>8068</th>\n",
       "      <td>ANSL_59041</td>\n",
       "      <td>1.0</td>\n",
       "      <td>2</td>\n",
       "    </tr>\n",
       "    <tr>\n",
       "      <th>8069</th>\n",
       "      <td>ANSL_60034</td>\n",
       "      <td>1.0</td>\n",
       "      <td>2</td>\n",
       "    </tr>\n",
       "    <tr>\n",
       "      <th>8070</th>\n",
       "      <td>ANSL_58066</td>\n",
       "      <td>2.0</td>\n",
       "      <td>4</td>\n",
       "    </tr>\n",
       "    <tr>\n",
       "      <th>8071</th>\n",
       "      <td>ANSL_69436</td>\n",
       "      <td>1.0</td>\n",
       "      <td>2</td>\n",
       "    </tr>\n",
       "  </tbody>\n",
       "</table>\n",
       "<p>8072 rows × 3 columns</p>\n",
       "</div>"
      ],
      "text/plain": [
       "          pet_id  breed_category  pet_category\n",
       "0     ANSL_75005             1.0             2\n",
       "1     ANSL_76663             0.0             1\n",
       "2     ANSL_58259             0.0             2\n",
       "3     ANSL_67171             0.0             2\n",
       "4     ANSL_72871             0.0             2\n",
       "...          ...             ...           ...\n",
       "8067  ANSL_66809             1.0             2\n",
       "8068  ANSL_59041             1.0             2\n",
       "8069  ANSL_60034             1.0             2\n",
       "8070  ANSL_58066             2.0             4\n",
       "8071  ANSL_69436             1.0             2\n",
       "\n",
       "[8072 rows x 3 columns]"
      ]
     },
     "execution_count": 18,
     "metadata": {},
     "output_type": "execute_result"
    }
   ],
   "source": [
    "sub"
   ]
  },
  {
   "cell_type": "code",
   "execution_count": null,
   "metadata": {},
   "outputs": [],
   "source": []
  }
 ],
 "metadata": {
  "kernelspec": {
   "display_name": "Python 3",
   "language": "python",
   "name": "python3"
  },
  "language_info": {
   "codemirror_mode": {
    "name": "ipython",
    "version": 3
   },
   "file_extension": ".py",
   "mimetype": "text/x-python",
   "name": "python",
   "nbconvert_exporter": "python",
   "pygments_lexer": "ipython3",
   "version": "3.7.6"
  }
 },
 "nbformat": 4,
 "nbformat_minor": 4
}
