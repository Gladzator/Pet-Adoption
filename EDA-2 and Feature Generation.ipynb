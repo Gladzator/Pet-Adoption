{
 "cells": [
  {
   "cell_type": "code",
   "execution_count": 1,
   "metadata": {},
   "outputs": [],
   "source": [
    "import pandas as pd\n",
    "import numpy as np\n",
    "import matplotlib.pyplot as plt\n",
    "%matplotlib inline\n",
    "import seaborn as sns"
   ]
  },
  {
   "cell_type": "code",
   "execution_count": 2,
   "metadata": {},
   "outputs": [],
   "source": [
    "train = pd.read_csv('train_updated.csv')\n",
    "test = pd.read_csv('test_updated.csv')"
   ]
  },
  {
   "cell_type": "code",
   "execution_count": 3,
   "metadata": {},
   "outputs": [
    {
     "data": {
      "text/plain": [
       "set()"
      ]
     },
     "execution_count": 3,
     "metadata": {},
     "output_type": "execute_result"
    }
   ],
   "source": [
    "list1 = list(train['pet_id'].value_counts().sort_values().index)\n",
    "list2 = list(test['pet_id'].value_counts().sort_values().index)\n",
    "set(list1) & set(list2)"
   ]
  },
  {
   "cell_type": "code",
   "execution_count": 4,
   "metadata": {
    "scrolled": false
   },
   "outputs": [],
   "source": [
    "train = train.drop_duplicates()"
   ]
  },
  {
   "cell_type": "code",
   "execution_count": 5,
   "metadata": {},
   "outputs": [
    {
     "data": {
      "text/html": [
       "<div>\n",
       "<style scoped>\n",
       "    .dataframe tbody tr th:only-of-type {\n",
       "        vertical-align: middle;\n",
       "    }\n",
       "\n",
       "    .dataframe tbody tr th {\n",
       "        vertical-align: top;\n",
       "    }\n",
       "\n",
       "    .dataframe thead th {\n",
       "        text-align: right;\n",
       "    }\n",
       "</style>\n",
       "<table border=\"1\" class=\"dataframe\">\n",
       "  <thead>\n",
       "    <tr style=\"text-align: right;\">\n",
       "      <th></th>\n",
       "      <th>pet_id</th>\n",
       "      <th>issue_date</th>\n",
       "      <th>listing_date</th>\n",
       "      <th>condition</th>\n",
       "      <th>color_type</th>\n",
       "      <th>length(m)</th>\n",
       "      <th>X1</th>\n",
       "      <th>X2</th>\n",
       "      <th>breed_category</th>\n",
       "      <th>pet_category</th>\n",
       "      <th>issue_date_dt</th>\n",
       "      <th>listing_date_dt</th>\n",
       "      <th>date_diff</th>\n",
       "      <th>conditionnan</th>\n",
       "      <th>height(m)</th>\n",
       "    </tr>\n",
       "  </thead>\n",
       "  <tbody>\n",
       "    <tr>\n",
       "      <th>1504</th>\n",
       "      <td>ANSL_52243</td>\n",
       "      <td>2018-01-17 00:00:00</td>\n",
       "      <td>2018-01-14 15:13:00</td>\n",
       "      <td>2.0</td>\n",
       "      <td>Orange Tabby</td>\n",
       "      <td>0.72</td>\n",
       "      <td>13</td>\n",
       "      <td>9</td>\n",
       "      <td>0.0</td>\n",
       "      <td>1</td>\n",
       "      <td>2018-01-17</td>\n",
       "      <td>2018-01-14</td>\n",
       "      <td>-3</td>\n",
       "      <td>0</td>\n",
       "      <td>0.4319</td>\n",
       "    </tr>\n",
       "    <tr>\n",
       "      <th>5301</th>\n",
       "      <td>ANSL_63737</td>\n",
       "      <td>2016-11-18 00:00:00</td>\n",
       "      <td>2016-09-03 17:01:00</td>\n",
       "      <td>0.0</td>\n",
       "      <td>Black</td>\n",
       "      <td>0.88</td>\n",
       "      <td>0</td>\n",
       "      <td>1</td>\n",
       "      <td>1.0</td>\n",
       "      <td>1</td>\n",
       "      <td>2016-11-18</td>\n",
       "      <td>2016-09-03</td>\n",
       "      <td>-76</td>\n",
       "      <td>0</td>\n",
       "      <td>0.2782</td>\n",
       "    </tr>\n",
       "  </tbody>\n",
       "</table>\n",
       "</div>"
      ],
      "text/plain": [
       "          pet_id           issue_date         listing_date  condition  \\\n",
       "1504  ANSL_52243  2018-01-17 00:00:00  2018-01-14 15:13:00        2.0   \n",
       "5301  ANSL_63737  2016-11-18 00:00:00  2016-09-03 17:01:00        0.0   \n",
       "\n",
       "        color_type  length(m)  X1  X2  breed_category  pet_category  \\\n",
       "1504  Orange Tabby       0.72  13   9             0.0             1   \n",
       "5301         Black       0.88   0   1             1.0             1   \n",
       "\n",
       "     issue_date_dt listing_date_dt  date_diff  conditionnan  height(m)  \n",
       "1504    2018-01-17      2018-01-14         -3             0     0.4319  \n",
       "5301    2016-11-18      2016-09-03        -76             0     0.2782  "
      ]
     },
     "execution_count": 5,
     "metadata": {},
     "output_type": "execute_result"
    }
   ],
   "source": [
    "train[train['issue_date_dt']>train['listing_date_dt']]"
   ]
  },
  {
   "cell_type": "code",
   "execution_count": 6,
   "metadata": {},
   "outputs": [
    {
     "data": {
      "text/html": [
       "<div>\n",
       "<style scoped>\n",
       "    .dataframe tbody tr th:only-of-type {\n",
       "        vertical-align: middle;\n",
       "    }\n",
       "\n",
       "    .dataframe tbody tr th {\n",
       "        vertical-align: top;\n",
       "    }\n",
       "\n",
       "    .dataframe thead th {\n",
       "        text-align: right;\n",
       "    }\n",
       "</style>\n",
       "<table border=\"1\" class=\"dataframe\">\n",
       "  <thead>\n",
       "    <tr style=\"text-align: right;\">\n",
       "      <th></th>\n",
       "      <th>pet_id</th>\n",
       "      <th>issue_date</th>\n",
       "      <th>listing_date</th>\n",
       "      <th>condition</th>\n",
       "      <th>color_type</th>\n",
       "      <th>length(m)</th>\n",
       "      <th>X1</th>\n",
       "      <th>X2</th>\n",
       "      <th>issue_date_dt</th>\n",
       "      <th>listing_date_dt</th>\n",
       "      <th>date_diff</th>\n",
       "      <th>conditionnan</th>\n",
       "      <th>height(m)</th>\n",
       "    </tr>\n",
       "  </thead>\n",
       "  <tbody>\n",
       "  </tbody>\n",
       "</table>\n",
       "</div>"
      ],
      "text/plain": [
       "Empty DataFrame\n",
       "Columns: [pet_id, issue_date, listing_date, condition, color_type, length(m), X1, X2, issue_date_dt, listing_date_dt, date_diff, conditionnan, height(m)]\n",
       "Index: []"
      ]
     },
     "execution_count": 6,
     "metadata": {},
     "output_type": "execute_result"
    }
   ],
   "source": [
    "test[test['issue_date_dt']>test['listing_date_dt']]"
   ]
  },
  {
   "cell_type": "markdown",
   "metadata": {},
   "source": [
    "Seems like some data anomaly is present. We can simply ignore those two data points."
   ]
  },
  {
   "cell_type": "code",
   "execution_count": 7,
   "metadata": {},
   "outputs": [],
   "source": [
    "train = train[train['issue_date_dt']<train['listing_date_dt']] "
   ]
  },
  {
   "cell_type": "code",
   "execution_count": 8,
   "metadata": {},
   "outputs": [
    {
     "data": {
      "text/html": [
       "<div>\n",
       "<style scoped>\n",
       "    .dataframe tbody tr th:only-of-type {\n",
       "        vertical-align: middle;\n",
       "    }\n",
       "\n",
       "    .dataframe tbody tr th {\n",
       "        vertical-align: top;\n",
       "    }\n",
       "\n",
       "    .dataframe thead th {\n",
       "        text-align: right;\n",
       "    }\n",
       "</style>\n",
       "<table border=\"1\" class=\"dataframe\">\n",
       "  <thead>\n",
       "    <tr style=\"text-align: right;\">\n",
       "      <th></th>\n",
       "      <th>pet_id</th>\n",
       "      <th>issue_date</th>\n",
       "      <th>listing_date</th>\n",
       "      <th>condition</th>\n",
       "      <th>color_type</th>\n",
       "      <th>length(m)</th>\n",
       "      <th>X1</th>\n",
       "      <th>X2</th>\n",
       "      <th>breed_category</th>\n",
       "      <th>pet_category</th>\n",
       "      <th>issue_date_dt</th>\n",
       "      <th>listing_date_dt</th>\n",
       "      <th>date_diff</th>\n",
       "      <th>conditionnan</th>\n",
       "      <th>height(m)</th>\n",
       "    </tr>\n",
       "  </thead>\n",
       "  <tbody>\n",
       "  </tbody>\n",
       "</table>\n",
       "</div>"
      ],
      "text/plain": [
       "Empty DataFrame\n",
       "Columns: [pet_id, issue_date, listing_date, condition, color_type, length(m), X1, X2, breed_category, pet_category, issue_date_dt, listing_date_dt, date_diff, conditionnan, height(m)]\n",
       "Index: []"
      ]
     },
     "execution_count": 8,
     "metadata": {},
     "output_type": "execute_result"
    }
   ],
   "source": [
    "train[train['issue_date_dt']>train['listing_date_dt']]"
   ]
  },
  {
   "cell_type": "code",
   "execution_count": 9,
   "metadata": {},
   "outputs": [],
   "source": [
    "train = train.drop(['issue_date', 'listing_date'], axis=1)\n",
    "test = test.drop(['issue_date', 'listing_date'], axis=1)"
   ]
  },
  {
   "cell_type": "markdown",
   "metadata": {},
   "source": [
    "Let's now handle the categorical features"
   ]
  },
  {
   "cell_type": "code",
   "execution_count": 10,
   "metadata": {},
   "outputs": [
    {
     "data": {
      "text/plain": [
       "56"
      ]
     },
     "execution_count": 10,
     "metadata": {},
     "output_type": "execute_result"
    }
   ],
   "source": [
    "len(train.color_type.value_counts())"
   ]
  },
  {
   "cell_type": "code",
   "execution_count": 11,
   "metadata": {},
   "outputs": [
    {
     "data": {
      "text/plain": [
       "54"
      ]
     },
     "execution_count": 11,
     "metadata": {},
     "output_type": "execute_result"
    }
   ],
   "source": [
    "len(test.color_type.value_counts())"
   ]
  },
  {
   "cell_type": "markdown",
   "metadata": {},
   "source": [
    "As it is observed there are clearly too many color types. Hence, we definitely should be wise and not choose one-hot encoding."
   ]
  },
  {
   "cell_type": "code",
   "execution_count": 12,
   "metadata": {},
   "outputs": [],
   "source": [
    "from sklearn import preprocessing\n",
    "label_encoder = preprocessing.LabelEncoder()\n",
    "\n",
    "train['pet+breed'] = train['pet_category'].astype(str) + train['breed_category'].astype(str)\n",
    "train['pet+breed']= label_encoder.fit_transform(train['pet+breed']) "
   ]
  },
  {
   "cell_type": "code",
   "execution_count": 13,
   "metadata": {},
   "outputs": [
    {
     "data": {
      "text/plain": [
       "6     5692\n",
       "7     4869\n",
       "4     3405\n",
       "3     3194\n",
       "11     783\n",
       "5      583\n",
       "9       83\n",
       "10      75\n",
       "8       60\n",
       "2       51\n",
       "0       30\n",
       "1        7\n",
       "Name: pet+breed, dtype: int64"
      ]
     },
     "execution_count": 13,
     "metadata": {},
     "output_type": "execute_result"
    }
   ],
   "source": [
    "train['pet+breed'].value_counts()"
   ]
  },
  {
   "cell_type": "code",
   "execution_count": 14,
   "metadata": {},
   "outputs": [],
   "source": [
    "color_type_hot=train.groupby(['color_type'])['pet+breed'].mean().sort_values().index\n",
    "color_type_hot={k:i for i,k in enumerate(color_type_hot,0)}\n",
    "train['color_type_encode'] = train['color_type'].map(color_type_hot)\n",
    "\n",
    "test['color_type_encode'] = test['color_type'].map(color_type_hot)"
   ]
  },
  {
   "cell_type": "code",
   "execution_count": 15,
   "metadata": {},
   "outputs": [],
   "source": [
    "train = train.drop(['pet+breed'], axis=1)\n",
    "df=train\n",
    "df_test=test"
   ]
  },
  {
   "cell_type": "code",
   "execution_count": 16,
   "metadata": {},
   "outputs": [],
   "source": [
    "num_features=[feature for feature in df.columns if df[feature].dtypes!='O' and feature != 'pet_category' and feature != 'breed_category']\n",
    "for feature in num_features:\n",
    "    df[feature]=(df[feature]-df[feature].min())/(df[feature].max()-df[feature].min())"
   ]
  },
  {
   "cell_type": "code",
   "execution_count": 17,
   "metadata": {},
   "outputs": [],
   "source": [
    "df.to_csv('C:/Pet-Adoption/train_norm.csv',index=False)"
   ]
  },
  {
   "cell_type": "code",
   "execution_count": 18,
   "metadata": {},
   "outputs": [],
   "source": [
    "num_features=[feature for feature in df_test.columns if df_test[feature].dtypes!='O' and feature != 'pet_category' and feature != 'breed_category']\n",
    "for feature in num_features:\n",
    "    df_test[feature]=(df_test[feature]-df_test[feature].min())/(df_test[feature].max()-df_test[feature].min())"
   ]
  },
  {
   "cell_type": "code",
   "execution_count": 19,
   "metadata": {},
   "outputs": [],
   "source": [
    "df_test.to_csv('C:/Pet-Adoption/test_norm.csv',index=False)"
   ]
  },
  {
   "cell_type": "code",
   "execution_count": 20,
   "metadata": {},
   "outputs": [
    {
     "data": {
      "text/html": [
       "<div>\n",
       "<style scoped>\n",
       "    .dataframe tbody tr th:only-of-type {\n",
       "        vertical-align: middle;\n",
       "    }\n",
       "\n",
       "    .dataframe tbody tr th {\n",
       "        vertical-align: top;\n",
       "    }\n",
       "\n",
       "    .dataframe thead th {\n",
       "        text-align: right;\n",
       "    }\n",
       "</style>\n",
       "<table border=\"1\" class=\"dataframe\">\n",
       "  <thead>\n",
       "    <tr style=\"text-align: right;\">\n",
       "      <th></th>\n",
       "      <th>condition</th>\n",
       "      <th>length(m)</th>\n",
       "      <th>X1</th>\n",
       "      <th>X2</th>\n",
       "      <th>breed_category</th>\n",
       "      <th>pet_category</th>\n",
       "      <th>date_diff</th>\n",
       "      <th>conditionnan</th>\n",
       "      <th>height(m)</th>\n",
       "      <th>color_type_encode</th>\n",
       "    </tr>\n",
       "  </thead>\n",
       "  <tbody>\n",
       "    <tr>\n",
       "      <th>condition</th>\n",
       "      <td>1.000000</td>\n",
       "      <td>-0.006032</td>\n",
       "      <td>0.457002</td>\n",
       "      <td>0.359059</td>\n",
       "      <td>0.103486</td>\n",
       "      <td>0.196060</td>\n",
       "      <td>-0.159945</td>\n",
       "      <td>0.609820</td>\n",
       "      <td>-0.006145</td>\n",
       "      <td>0.026807</td>\n",
       "    </tr>\n",
       "    <tr>\n",
       "      <th>length(m)</th>\n",
       "      <td>-0.006032</td>\n",
       "      <td>1.000000</td>\n",
       "      <td>-0.002883</td>\n",
       "      <td>-0.011156</td>\n",
       "      <td>0.007224</td>\n",
       "      <td>-0.003892</td>\n",
       "      <td>0.001862</td>\n",
       "      <td>0.004066</td>\n",
       "      <td>-0.004514</td>\n",
       "      <td>-0.001197</td>\n",
       "    </tr>\n",
       "    <tr>\n",
       "      <th>X1</th>\n",
       "      <td>0.457002</td>\n",
       "      <td>-0.002883</td>\n",
       "      <td>1.000000</td>\n",
       "      <td>0.584346</td>\n",
       "      <td>0.240836</td>\n",
       "      <td>-0.032579</td>\n",
       "      <td>-0.102617</td>\n",
       "      <td>0.345107</td>\n",
       "      <td>-0.003875</td>\n",
       "      <td>-0.132773</td>\n",
       "    </tr>\n",
       "    <tr>\n",
       "      <th>X2</th>\n",
       "      <td>0.359059</td>\n",
       "      <td>-0.011156</td>\n",
       "      <td>0.584346</td>\n",
       "      <td>1.000000</td>\n",
       "      <td>0.052634</td>\n",
       "      <td>-0.032107</td>\n",
       "      <td>0.118708</td>\n",
       "      <td>0.106482</td>\n",
       "      <td>-0.008296</td>\n",
       "      <td>-0.026934</td>\n",
       "    </tr>\n",
       "    <tr>\n",
       "      <th>breed_category</th>\n",
       "      <td>0.103486</td>\n",
       "      <td>0.007224</td>\n",
       "      <td>0.240836</td>\n",
       "      <td>0.052634</td>\n",
       "      <td>1.000000</td>\n",
       "      <td>0.209232</td>\n",
       "      <td>-0.102793</td>\n",
       "      <td>0.648145</td>\n",
       "      <td>0.011708</td>\n",
       "      <td>0.060408</td>\n",
       "    </tr>\n",
       "    <tr>\n",
       "      <th>pet_category</th>\n",
       "      <td>0.196060</td>\n",
       "      <td>-0.003892</td>\n",
       "      <td>-0.032579</td>\n",
       "      <td>-0.032107</td>\n",
       "      <td>0.209232</td>\n",
       "      <td>1.000000</td>\n",
       "      <td>0.093253</td>\n",
       "      <td>0.360549</td>\n",
       "      <td>0.002041</td>\n",
       "      <td>0.606243</td>\n",
       "    </tr>\n",
       "    <tr>\n",
       "      <th>date_diff</th>\n",
       "      <td>-0.159945</td>\n",
       "      <td>0.001862</td>\n",
       "      <td>-0.102617</td>\n",
       "      <td>0.118708</td>\n",
       "      <td>-0.102793</td>\n",
       "      <td>0.093253</td>\n",
       "      <td>1.000000</td>\n",
       "      <td>-0.132064</td>\n",
       "      <td>-0.000466</td>\n",
       "      <td>0.128795</td>\n",
       "    </tr>\n",
       "    <tr>\n",
       "      <th>conditionnan</th>\n",
       "      <td>0.609820</td>\n",
       "      <td>0.004066</td>\n",
       "      <td>0.345107</td>\n",
       "      <td>0.106482</td>\n",
       "      <td>0.648145</td>\n",
       "      <td>0.360549</td>\n",
       "      <td>-0.132064</td>\n",
       "      <td>1.000000</td>\n",
       "      <td>0.003528</td>\n",
       "      <td>0.109123</td>\n",
       "    </tr>\n",
       "    <tr>\n",
       "      <th>height(m)</th>\n",
       "      <td>-0.006145</td>\n",
       "      <td>-0.004514</td>\n",
       "      <td>-0.003875</td>\n",
       "      <td>-0.008296</td>\n",
       "      <td>0.011708</td>\n",
       "      <td>0.002041</td>\n",
       "      <td>-0.000466</td>\n",
       "      <td>0.003528</td>\n",
       "      <td>1.000000</td>\n",
       "      <td>0.001314</td>\n",
       "    </tr>\n",
       "    <tr>\n",
       "      <th>color_type_encode</th>\n",
       "      <td>0.026807</td>\n",
       "      <td>-0.001197</td>\n",
       "      <td>-0.132773</td>\n",
       "      <td>-0.026934</td>\n",
       "      <td>0.060408</td>\n",
       "      <td>0.606243</td>\n",
       "      <td>0.128795</td>\n",
       "      <td>0.109123</td>\n",
       "      <td>0.001314</td>\n",
       "      <td>1.000000</td>\n",
       "    </tr>\n",
       "  </tbody>\n",
       "</table>\n",
       "</div>"
      ],
      "text/plain": [
       "                   condition  length(m)        X1        X2  breed_category  \\\n",
       "condition           1.000000  -0.006032  0.457002  0.359059        0.103486   \n",
       "length(m)          -0.006032   1.000000 -0.002883 -0.011156        0.007224   \n",
       "X1                  0.457002  -0.002883  1.000000  0.584346        0.240836   \n",
       "X2                  0.359059  -0.011156  0.584346  1.000000        0.052634   \n",
       "breed_category      0.103486   0.007224  0.240836  0.052634        1.000000   \n",
       "pet_category        0.196060  -0.003892 -0.032579 -0.032107        0.209232   \n",
       "date_diff          -0.159945   0.001862 -0.102617  0.118708       -0.102793   \n",
       "conditionnan        0.609820   0.004066  0.345107  0.106482        0.648145   \n",
       "height(m)          -0.006145  -0.004514 -0.003875 -0.008296        0.011708   \n",
       "color_type_encode   0.026807  -0.001197 -0.132773 -0.026934        0.060408   \n",
       "\n",
       "                   pet_category  date_diff  conditionnan  height(m)  \\\n",
       "condition              0.196060  -0.159945      0.609820  -0.006145   \n",
       "length(m)             -0.003892   0.001862      0.004066  -0.004514   \n",
       "X1                    -0.032579  -0.102617      0.345107  -0.003875   \n",
       "X2                    -0.032107   0.118708      0.106482  -0.008296   \n",
       "breed_category         0.209232  -0.102793      0.648145   0.011708   \n",
       "pet_category           1.000000   0.093253      0.360549   0.002041   \n",
       "date_diff              0.093253   1.000000     -0.132064  -0.000466   \n",
       "conditionnan           0.360549  -0.132064      1.000000   0.003528   \n",
       "height(m)              0.002041  -0.000466      0.003528   1.000000   \n",
       "color_type_encode      0.606243   0.128795      0.109123   0.001314   \n",
       "\n",
       "                   color_type_encode  \n",
       "condition                   0.026807  \n",
       "length(m)                  -0.001197  \n",
       "X1                         -0.132773  \n",
       "X2                         -0.026934  \n",
       "breed_category              0.060408  \n",
       "pet_category                0.606243  \n",
       "date_diff                   0.128795  \n",
       "conditionnan                0.109123  \n",
       "height(m)                   0.001314  \n",
       "color_type_encode           1.000000  "
      ]
     },
     "execution_count": 20,
     "metadata": {},
     "output_type": "execute_result"
    }
   ],
   "source": [
    "df.corr()"
   ]
  },
  {
   "cell_type": "code",
   "execution_count": null,
   "metadata": {},
   "outputs": [],
   "source": []
  }
 ],
 "metadata": {
  "kernelspec": {
   "display_name": "Python 3",
   "language": "python",
   "name": "python3"
  },
  "language_info": {
   "codemirror_mode": {
    "name": "ipython",
    "version": 3
   },
   "file_extension": ".py",
   "mimetype": "text/x-python",
   "name": "python",
   "nbconvert_exporter": "python",
   "pygments_lexer": "ipython3",
   "version": "3.7.6"
  }
 },
 "nbformat": 4,
 "nbformat_minor": 4
}
